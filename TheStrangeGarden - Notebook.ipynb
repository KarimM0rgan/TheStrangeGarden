{
 "cells": [
  {
   "cell_type": "markdown",
   "metadata": {
    "deletable": false,
    "editable": false
   },
   "source": [
    "# The Strange Garden\n",
    "Computer science, while fun, is not something you can do 24/7. Keeping up with hobbies is important, so you decide to take up gardening as a new hobby. You know nothing about growing plants, however, so you decide to visit a new flower shop in your neighborhood.\n",
    "\n",
    "The shop owner seems a bit strange, however, and sells you some plants you've never seen before, known only as \"Plant A\" and \"Plant B\". The shop owner tells you that these plants grow in specific ways according to a strange set of rules. In this project, you will develop a computer program that shows how the plants grow."
   ]
  },
  {
   "cell_type": "markdown",
   "metadata": {
    "deletable": false,
    "editable": false
   },
   "source": [
    "## Rules for the plants\n",
    "The shopkeeper tells you some basic rules for the two kinds of Plants, Plant A and Plant B.\n",
    "\n",
    "Each plant type is always planted separately from the other type (A and B). The two types never grow together.\n",
    "Each plant is planted in straight rows of individual plants.\n",
    "The plants grow in what are called generations: every day the plants grow and change in size according to the rules below."
   ]
  },
  {
   "cell_type": "markdown",
   "metadata": {
    "deletable": false,
    "editable": false
   },
   "source": [
    "<hr>"
   ]
  },
  {
   "cell_type": "markdown",
   "metadata": {
    "deletable": false,
    "editable": false
   },
   "source": [
    "## Plant A\n",
    "Every plant in a row of Plant A will always be either \"alive\" or \"dormant\". This plant has a very simple growing pattern that is based on its neighboring plants:\n",
    "\n",
    "* If a plant is alive and exactly one of its two neighboring plants (the plants to the immediate left and right) are also alive, then it will stay alive in the next generation.\n",
    "* If a plant is alive and both of its two neighboring plants are alive, then it will become dormant in the next generation due to overcrowding.\n",
    "* If a plant is alive and both of its two neighboring plants are dormant, then it will become dormant in the next generation due to loneliness.\n",
    "* If a plant is dormant and exactly one of its two neighboring plants are alive, then it regenerates and becomes alive in the next generation.\n",
    "* If a plant is dormant and its two neighboring plants are both alive or both dormant, then it stays dormant in the next generation.\n",
    "* Note 1: All the plants in the row change to the next generation at the same time.\n",
    "* Note 2: The plant on the far left and the plant on the far right of the row have only one neighbor, so these rules do not apply to them: they will always be dormant.\n",
    "\n",
    "Let's examine a few generations of Plant A. Suppose we have a row of eight plants. We represent an alive plant with an asterisk (*), and a dormant plant with a period (.). To make it easier to talk about the plants, let's number them from left to right, starting with 0. Suppose the plants begin like this:\n",
    "```\n",
    "01234567  <-- Plant numbers\n",
    ".***..*.  <-- Plant status\n",
    "```\n",
    "\n",
    "To figure out what happens at the next generation, let's examine the plants from left to right.\n",
    "\n",
    "* Plant 0 is on the far left, so it always stays dormant.\n",
    "* Plant 1 is alive and has exactly one alive neighbor, so it will remain alive in the next generation.\n",
    "* Plant 2 is also alive, but both of its neighbors are alive, so it will become dormant in the next generation.\n",
    "* Plant 3, like plant 1, is alive and has exactly one alive neighbor, so it will remain alive.\n",
    "* Plant 4 is dormant, but it has exactly one alive neighbor, so it will regenerate and become alive in the next generation.\n",
    "* Plant 5 is similar to plant 4 (dormant, but has one alive neighbor), so it will also become alive.\n",
    "* Plant 6 is alive, but has no alive neighbors, so it will become dormant in the next generation.\n",
    "* Plant 7 is on the far right, so it always stays dormant.\n",
    "\n",
    "So the first two generation of plants in the row looks like this, with the initial generation on top and the second generation below.\n",
    "```\n",
    "01234567\n",
    ".***..*.\n",
    ".*.***..\n",
    "```\n",
    "\n",
    "If we apply the same rules again, we end up with the third generation of plants, which when added below the first two generations, looks like this:\n",
    "```\n",
    "01234567\n",
    ".***..*.\n",
    ".*.***..\n",
    "...*.**.\n",
    "```"
   ]
  },
  {
   "cell_type": "markdown",
   "metadata": {
    "deletable": false,
    "editable": false
   },
   "source": [
    "<hr>"
   ]
  },
  {
   "cell_type": "markdown",
   "metadata": {},
   "source": [
    "## Plant B\n",
    "\n",
    "The shopkeeper has warned you that Plant B is trickier than Plant A.\n",
    "\n",
    "* While Plant A only has two states (alive and dormant), Plant B has three states, because Plant B can grow to be two different sizes while alive: big and small. So the three states are big, small, and dormant.\n",
    "* While Plant A's growth pattern is based on itself and its immediate left and right neighbors, Plant B is allowed to look at a flexible number of neighbors on either side. We call this the neighborhood. Plant A always uses a neighborhood of 1, which means it looks at 1 neighboring plant on either side. Plant B is allowed to use a neighborhood of any integer size. For instance, a neighborhood of 2 means that every Plant B is allowed to consider itself, plus the two plants to its left and the two plants to its right to figure out what it does in the next generation.\n",
    "* Plant B's growth pattern is based off of whether or not the total number of alive plants - big or small - in the neighborhood is even or odd. Whenever the number of alive plants in the neighborhood is odd, then the plant will grow bigger (changing from dormant to small, or small to big). When the number of alive plants in the neighborhood is even, then the plant will grow smaller (changing from big to small, or small to dormant). More specifically:\n",
    "* If a plant is big, and the number of alive plants in the neighborhood is odd, then it will stay big in the next generation (since it can't grow any bigger).\n",
    "* If a plant is big, and the number of alive plants in the neighborhood is even, then it will change to small in the next generation.\n",
    "* If a plant is small, and the number of alive plants in the neighborhood is odd, then it will change to big in the next generation.\n",
    "* If a plant is small, and the number of alive plants in the neighborhood is even, then it will change to dormant in the next generation.\n",
    "* If a plant is dormant, and the number of alive plants in the neighborhood is odd, then it will change to small in the next generation.\n",
    "* If a plant is dormant, and the number of alive plants in the neighborhood is even, then it will stay dormant in the next generation (since it can't get any smaller).\n",
    "* Plants on the far left and the far right sides of a row that do not have a full neighborhood are always dormant in all generations. In other words, for a neighborhood of 1, the single far left and far right plants are always dormant (like with Plant A). For a neighborhood of 2, the two far left and far right plants are always dormant.\n",
    "\n",
    "Let's examine a few generations of Plant B, with a neighborhood of 1. Suppose we have a row of eight plants. We represent a big plant with a caret (^), a small plant with an asterisk (*), and a dormant plant with a period (.). Suppose the plants begin like this:\n",
    "```\n",
    "01234567\n",
    ".^*.^.*.\n",
    "```\n",
    "\n",
    "Here's how we compute the next generation:\n",
    "* Plant 0 is on the far left and doesn't have a full neighborhood, so it stays dormant.\n",
    "* Plant 1 is big, and the total number of alive plants (big or small) within its neighborhood is 2 (itself, plus the small plant on the right). Because 2 is even, this plant will become small in the next generation.\n",
    "* Plant 2 is similar in that the total number of alive plants in its neighborhood is 2 (itself and the big plant to the left). Because 2 is even and this plant is already small, it will become dormant in the next generation.\n",
    "* Plant 3 has a similar neighborhood (2 alive plants). But it is already dormant, so it will stay dormant.\n",
    "* Plant 4 has a neighborhood with 1 alive plant (itself). Because 1 is odd, this plant will stay big in the next generation.\n",
    "* Plant 5 has a neighborhood with 2 alive plants. This plant is dormant, and 2 is even, so this plant will stay dormant.\n",
    "* Plant 6 has a neighborhood with 1 alive plant. This plant is small, so it will grow to big in the next generation.\n",
    "* Plant 7 is the far right plant without a full neighborhood, so it will stay dormant.\n",
    "\n",
    "So the first two generations look like this:\n",
    "```\n",
    "01234567\n",
    ".^*.^.*.\n",
    ".*..^.^.\n",
    "```\n",
    "\n",
    "Adding in a third generation, we get this:\n",
    "```\n",
    "01234567\n",
    ".^*.^.*.\n",
    ".*..^.^.\n",
    ".^**^.^.\n",
    "```"
   ]
  },
  {
   "cell_type": "markdown",
   "metadata": {},
   "source": [
    "<hr>"
   ]
  },
  {
   "cell_type": "markdown",
   "metadata": {},
   "source": [
    "# How the program works\n",
    "\n",
    "The program asks the user whether they are growing Plant A or B, along with the initial plant configuration, and how many generations the user wants to see. Then it will simulate the growth of the row of plants for the specified number of generations, showing each generation, along with various statistics.\n"
   ]
  },
  {
   "cell_type": "code",
   "execution_count": null,
   "metadata": {},
   "outputs": [
    {
     "name": "stdout",
     "output_type": "stream",
     "text": [
      "7\n"
     ]
    }
   ],
   "source": [
    "# This imports all the functions in your file so that they can be used in the notebook.\n",
    "from TheStrangeGarden import *\n",
    "\n",
    "print(count_dormant(\"..*^.^^...***.\")) #should output 7"
   ]
  },
  {
   "cell_type": "code",
   "execution_count": null,
   "metadata": {},
   "outputs": [
    {
     "name": "stdout",
     "output_type": "stream",
     "text": [
      "6\n",
      "0\n"
     ]
    }
   ],
   "source": [
    "from TheStrangeGarden import *\n",
    "\n",
    "# Write at least two more tests here for count_dormant.\n",
    "print(count_dormant(\".*.^.*.^.*.^\")) #should output 6\n",
    "print(count_dormant(\"*^***^^^^**\")) #should return 0"
   ]
  },
  {
   "cell_type": "code",
   "execution_count": null,
   "metadata": {},
   "outputs": [
    {
     "name": "stdout",
     "output_type": "stream",
     "text": [
      "4\n"
     ]
    }
   ],
   "source": [
    "from TheStrangeGarden import *\n",
    "\n",
    "print(count_small(\"..*^.^^...***.\")) #should output 4"
   ]
  },
  {
   "cell_type": "code",
   "execution_count": null,
   "metadata": {},
   "outputs": [
    {
     "name": "stdout",
     "output_type": "stream",
     "text": [
      "3\n",
      "4\n"
     ]
    }
   ],
   "source": [
    "from TheStrangeGarden import *\n",
    "\n",
    "# Write at least two more tests here for count_small.\n",
    "print(count_small(\"***^^^...^\")) #should output 3\n",
    "print(count_small(\"..^*^*^*^*..^\")) #should output 4 "
   ]
  },
  {
   "cell_type": "code",
   "execution_count": null,
   "metadata": {},
   "outputs": [
    {
     "name": "stdout",
     "output_type": "stream",
     "text": [
      "3\n"
     ]
    }
   ],
   "source": [
    "from TheStrangeGarden import *\n",
    "\n",
    "print(count_big(\"..*^.^^...***.\")) #should output 3"
   ]
  },
  {
   "cell_type": "code",
   "execution_count": null,
   "metadata": {},
   "outputs": [
    {
     "name": "stdout",
     "output_type": "stream",
     "text": [
      "0\n",
      "11\n"
     ]
    }
   ],
   "source": [
    "from TheStrangeGarden import *\n",
    "\n",
    "# Write at least two more tests here for count_big.\n",
    "print(count_big(\".*..**..**...\")) #should output 0\n",
    "print(count_big(\".^^^^^^^^^^^.\")) #should output 11\n"
   ]
  },
  {
   "cell_type": "markdown",
   "metadata": {},
   "source": [
    "## Writing `next_generation_A`\n",
    "\n",
    "The `next_generation_A` function takes one argument, which is the current generation of a row of plants (which we call a garden), and outputs the next generation of plant according to the listed rules."
   ]
  },
  {
   "cell_type": "code",
   "execution_count": null,
   "metadata": {},
   "outputs": [
    {
     "name": "stdout",
     "output_type": "stream",
     "text": [
      ".*.***..\n",
      "...*.**.\n",
      "...*...*...\n"
     ]
    }
   ],
   "source": [
    "from TheStrangeGarden import *\n",
    "\n",
    "print(next_generation_A(\".***..*.\"))    # should output .*.***..\n",
    "print(next_generation_A(\".*.***..\"))    # should output ...*.**.\n",
    "print(next_generation_A(\".*.*****.*.\")) # should output ...*...*..."
   ]
  },
  {
   "cell_type": "code",
   "execution_count": null,
   "metadata": {},
   "outputs": [
    {
     "name": "stdout",
     "output_type": "stream",
     "text": [
      "...*.**.\n",
      "..**.**..\n"
     ]
    }
   ],
   "source": [
    "from TheStrangeGarden import *\n",
    "\n",
    "# Write at least two more tests here for next_generation_A.\n",
    "print(next_generation_A(\".*.***..\")) #should output ...*.**.\n",
    "print(next_generation_A(\"***...***\")) #should output ..**.**..\n"
   ]
  },
  {
   "cell_type": "markdown",
   "metadata": {},
   "source": [
    "## Writing `run_garden_A`\n",
    "\n",
    "The `run_garden_A` function gets Plant A to run.  \n",
    "\n",
    "#### Output 1\n",
    "```\n",
    ".***..*. 4 4\n",
    ".*.***.. 4 4\n",
    "...*.**. 5 3\n",
    "..*..**. 5 3\n",
    ".*.****. 3 5\n",
    "...*..*. 6 2\n",
    "```"
   ]
  },
  {
   "cell_type": "code",
   "execution_count": null,
   "metadata": {
    "tags": [
     "#A1"
    ]
   },
   "outputs": [
    {
     "name": "stdout",
     "output_type": "stream",
     "text": [
      ".***..*. 4 4\n",
      ".*.***.. 4 4\n",
      "...*.**. 5 3\n",
      "..*..**. 5 3\n",
      ".*.****. 3 5\n",
      "...*..*. 6 2\n"
     ]
    }
   ],
   "source": [
    "# Test 1\n",
    "from TheStrangeGarden import *\n",
    "\n",
    "run_garden_A(\".***..*.\", 5)"
   ]
  },
  {
   "cell_type": "markdown",
   "metadata": {},
   "source": [
    "#### Output 2\n",
    "```\n",
    "................................*................................ 64 1\n",
    "...............................*.*............................... 63 2\n",
    "..............................*...*.............................. 63 2\n",
    ".............................*.*.*.*............................. 61 4\n",
    "............................*.......*............................ 63 2\n",
    "...........................*.*.....*.*........................... 61 4\n",
    "..........................*...*...*...*.......................... 61 4\n",
    ".........................*.*.*.*.*.*.*.*......................... 57 8\n",
    "........................*...............*........................ 63 2\n",
    ".......................*.*.............*.*....................... 61 4\n",
    "......................*...*...........*...*...................... 61 4\n",
    ".....................*.*.*.*.........*.*.*.*..................... 57 8\n",
    "....................*.......*.......*.......*.................... 61 4\n",
    "...................*.*.....*.*.....*.*.....*.*................... 57 8\n",
    "..................*...*...*...*...*...*...*...*.................. 57 8\n",
    ".................*.*.*.*.*.*.*.*.*.*.*.*.*.*.*.*................. 49 16\n",
    "```"
   ]
  },
  {
   "cell_type": "code",
   "execution_count": null,
   "metadata": {
    "tags": [
     "#A2"
    ]
   },
   "outputs": [
    {
     "name": "stdout",
     "output_type": "stream",
     "text": [
      "................................*................................ 64 1\n",
      "...............................*.*............................... 63 2\n",
      "..............................*...*.............................. 63 2\n",
      ".............................*.*.*.*............................. 61 4\n",
      "............................*.......*............................ 63 2\n",
      "...........................*.*.....*.*........................... 61 4\n",
      "..........................*...*...*...*.......................... 61 4\n",
      ".........................*.*.*.*.*.*.*.*......................... 57 8\n",
      "........................*...............*........................ 63 2\n",
      ".......................*.*.............*.*....................... 61 4\n",
      "......................*...*...........*...*...................... 61 4\n",
      ".....................*.*.*.*.........*.*.*.*..................... 57 8\n",
      "....................*.......*.......*.......*.................... 61 4\n",
      "...................*.*.....*.*.....*.*.....*.*................... 57 8\n",
      "..................*...*...*...*...*...*...*...*.................. 57 8\n",
      ".................*.*.*.*.*.*.*.*.*.*.*.*.*.*.*.*................. 49 16\n"
     ]
    }
   ],
   "source": [
    "from TheStrangeGarden import *\n",
    "\n",
    "run_garden_A(\"................................*................................\", 15)"
   ]
  },
  {
   "cell_type": "code",
   "execution_count": null,
   "metadata": {
    "tags": [
     "#A3"
    ]
   },
   "outputs": [
    {
     "name": "stdout",
     "output_type": "stream",
     "text": [
      "...*... 6 1\n",
      "..*.*.. 5 2\n",
      ".*...*. 5 2\n",
      "***.*** 1 6\n",
      "..*.*.. 5 2\n",
      ".*...*. 5 2\n",
      "..*.*.. 5 2\n"
     ]
    }
   ],
   "source": [
    "from TheStrangeGarden import *\n",
    "\n",
    "run_garden_A(\"...*...\", 2) #should output 6,1/ 5,2/ 5,2\n",
    "run_garden_A(\"***.***\", 3) #should output 1,6/ 5,2/ 5,2/ 5,2"
   ]
  },
  {
   "cell_type": "markdown",
   "metadata": {},
   "source": [
    "<hr>"
   ]
  },
  {
   "cell_type": "markdown",
   "metadata": {},
   "source": [
    "## Writing `next_generation_B`\n",
    "\n",
    "The `next_generation_B` function follows the mentioned rules above and in a similar way to `next_generation_B`."
   ]
  },
  {
   "cell_type": "code",
   "execution_count": null,
   "metadata": {},
   "outputs": [
    {
     "name": "stdout",
     "output_type": "stream",
     "text": [
      ".*..^.^.\n",
      ".^**^.^.\n",
      ".....*^*.....\n",
      "....*.^.*....\n",
      "....**^**....\n",
      "..*.^.^.^.*..\n",
      "...***^***...\n",
      "....^.^.^....\n"
     ]
    }
   ],
   "source": [
    "from TheStrangeGarden import *\n",
    "\n",
    "print(next_generation_B(\".^*.^.*.\", 1)) # '.*..^.^.'\n",
    "print(next_generation_B(\".*..^.^.\", 1)) # '.^**^.^.'\n",
    "print(next_generation_B(\"......*......\", 1)) # '.....*^*.....'\n",
    "print(next_generation_B(\".....*^*.....\", 1)) # '....*.^.*....'\n",
    "print(next_generation_B(\"......*......\", 2)) # '....**^**....'\n",
    "print(next_generation_B(\"....**^**....\", 2)) # '..*.^.^.^.*..'\n",
    "print(next_generation_B(\"......*......\", 3)) # '...***^***...'\n",
    "print(next_generation_B(\"...***^***...\", 3)) # '....^.^.^....'"
   ]
  },
  {
   "cell_type": "code",
   "execution_count": null,
   "metadata": {},
   "outputs": [
    {
     "name": "stdout",
     "output_type": "stream",
     "text": [
      "..*.^.^.^.*..\n",
      "....^.^.^....\n",
      "...*^...\n",
      "....**^**....\n"
     ]
    }
   ],
   "source": [
    "from TheStrangeGarden import *\n",
    "\n",
    "print(next_generation_B(\"....**^**....\", 2)) #should output ..*.^.^.^.*..\n",
    "print(next_generation_B(\"..*.^.^.^.*..\", 2)) #should output ....^.^.^....\n",
    "print(next_generation_B(\".*..^.^.\", 3)) #should output ...*^...\n",
    "print(next_generation_B(\"....^.^.^....\", 3)) #should output ....**^**...."
   ]
  },
  {
   "cell_type": "markdown",
   "metadata": {},
   "source": [
    "## Writing `run_garden_B`\n",
    "\n",
    "The `run_garden_B` function gets Plant B and is very similar to the `run_garden_A` function!"
   ]
  },
  {
   "cell_type": "markdown",
   "metadata": {},
   "source": [
    "#### Test output 1\n",
    "```\n",
    ".^*.^.*. 4 2 2\n",
    ".*..^.^. 5 1 2\n",
    ".^**^.^. 3 2 3\n",
    ".*^^*.^. 3 2 3\n",
    "..^^..^. 5 0 3\n",
    ".*****^. 2 5 1\n",
    "```"
   ]
  },
  {
   "cell_type": "code",
   "execution_count": null,
   "metadata": {
    "deletable": false,
    "editable": false,
    "tags": [
     "#B1"
    ]
   },
   "outputs": [
    {
     "name": "stdout",
     "output_type": "stream",
     "text": [
      ".^*.^.*. 4 2 2\n",
      ".*..^.^. 5 1 2\n",
      ".^**^.^. 3 2 3\n",
      ".*^^*.^. 3 2 3\n",
      "..^^..^. 5 0 3\n",
      ".*****^. 2 5 1\n"
     ]
    }
   ],
   "source": [
    "# Test 1\n",
    "from TheStrangeGarden import *\n",
    "\n",
    "run_garden_B(\".^*.^.*.\", 1, 5)"
   ]
  },
  {
   "cell_type": "markdown",
   "metadata": {},
   "source": [
    "#### Test output 2\n",
    "\n",
    "```\n",
    "....................*.................... 40 1 0\n",
    "..................**^**.................. 36 4 1\n",
    "................*.^.^.^.*................ 36 2 3\n",
    "..............**..^.^.^..**.............. 34 4 3\n",
    "............*...*.*.^.*.*...*............ 34 6 1\n",
    "..........**^*.*..^.^.^..*.*^**.......... 28 8 5\n",
    "........*.^.*.*...*.^.*...*.*.^.*........ 30 8 3\n",
    "```"
   ]
  },
  {
   "cell_type": "code",
   "execution_count": null,
   "metadata": {
    "deletable": false,
    "editable": false,
    "tags": [
     "#B2"
    ]
   },
   "outputs": [
    {
     "name": "stdout",
     "output_type": "stream",
     "text": [
      "....................*.................... 40 1 0\n",
      "..................**^**.................. 36 4 1\n",
      "................*.^.^.^.*................ 36 2 3\n",
      "..............**..^.^.^..**.............. 34 4 3\n",
      "............*...*.*.^.*.*...*............ 34 6 1\n",
      "..........**^*.*..^.^.^..*.*^**.......... 28 8 5\n",
      "........*.^.*.*...*.^.*...*.*.^.*........ 30 8 3\n"
     ]
    }
   ],
   "source": [
    "from TheStrangeGarden import *\n",
    "\n",
    "run_garden_B(\"....................*....................\", 2, 6)"
   ]
  },
  {
   "cell_type": "markdown",
   "metadata": {},
   "source": [
    "#### Test output 3\n",
    "```\n",
    "....^^*^*...**..***.^.***..**...*^*^^.... 20 14 7\n",
    "...**^^^...*.^.*...*^*...*.^.*...^^^**... 22 10 9\n",
    "....^^^*.**.*^*.**.^^^.**.*^*.**.*^^^.... 16 14 11\n",
    "...***^.*^^*^^^*^^*^^^*^^*^^^*^^*.^***... 8 14 19\n",
    ".....^*..**^^^^^^^^^^^^^^^^^^^**..*^..... 14 6 21\n",
    ".....*^.*^^*^^^^^^^^^^^^^^^^^*^^*.^*..... 12 6 23\n",
    ".....^**.**^^^^^^^^^^^^^^^^^^^**.**^..... 12 8 21\n",
    "....*^.^...*^^^^^^^^^^^^^^^^^*...^.^*.... 16 4 21\n",
    "```"
   ]
  },
  {
   "cell_type": "code",
   "execution_count": null,
   "metadata": {
    "deletable": false,
    "editable": false,
    "tags": [
     "#B3"
    ]
   },
   "outputs": [
    {
     "name": "stdout",
     "output_type": "stream",
     "text": [
      "....^^*^*...**..***.^.***..**...*^*^^.... 20 14 7\n",
      "...**^^^...*.^.*...*^*...*.^.*...^^^**... 22 10 9\n",
      "....^^^*.**.*^*.**.^^^.**.*^*.**.*^^^.... 16 14 11\n",
      "...***^.*^^*^^^*^^*^^^*^^*^^^*^^*.^***... 8 14 19\n",
      ".....^*..**^^^^^^^^^^^^^^^^^^^**..*^..... 14 6 21\n",
      ".....*^.*^^*^^^^^^^^^^^^^^^^^*^^*.^*..... 12 6 23\n",
      ".....^**.**^^^^^^^^^^^^^^^^^^^**.**^..... 12 8 21\n",
      "....*^.^...*^^^^^^^^^^^^^^^^^*...^.^*.... 16 4 21\n"
     ]
    }
   ],
   "source": [
    "from TheStrangeGarden import *\n",
    "\n",
    "run_garden_B(\"....^^*^*...**..***.^.***..**...*^*^^....\", 3, 7)"
   ]
  },
  {
   "cell_type": "code",
   "execution_count": null,
   "metadata": {
    "tags": [
     "#B4"
    ]
   },
   "outputs": [
    {
     "name": "stdout",
     "output_type": "stream",
     "text": [
      "******.****** 1 12 0\n",
      "..^^.....^^.. 9 0 4\n",
      "..**.*.*.**.. 7 6 0\n",
      "...^*^.^*^... 7 2 4\n",
      "...^^*.*^^... 7 2 4\n",
      "...^^...^^... 9 0 4\n",
      "...**...**... 9 4 0\n"
     ]
    }
   ],
   "source": [
    "from TheStrangeGarden import *\n",
    "\n",
    "run_garden_B(\"******.******\", 2, 6)"
   ]
  },
  {
   "cell_type": "markdown",
   "metadata": {},
   "source": [
    "<hr>\n",
    "\n",
    "## Making the program interactive\n",
    "\n",
    "The `main` function will make the program interactive. The cell below will run the program, and the program should be able to match the sample interactions below."
   ]
  },
  {
   "cell_type": "code",
   "execution_count": 1,
   "metadata": {
    "deletable": false,
    "editable": false
   },
   "outputs": [
    {
     "name": "stdout",
     "output_type": "stream",
     "text": [
      ".***..*.  4  4\n",
      ".*.***..  4  4\n",
      "...*.**.  5  3\n",
      "..*..**.  5  3\n",
      ".*.****.  3  5\n",
      "...*..*.  6  2\n",
      "Thank you for using the plant simulation!\n"
     ]
    }
   ],
   "source": [
    "%run TheStrangeGarden.py"
   ]
  },
  {
   "cell_type": "markdown",
   "metadata": {},
   "source": [
    "#### Plant A, Test 1\n",
    "```\n",
    "Are you growing plant A or B? A\n",
    "What is the starting garden? .***..*.\n",
    "How many dormant plants are on either side? 0\n",
    "How many generations do you want to see? (not including the first) 5\n",
    ".***..*. 4 4\n",
    ".*.***.. 4 4\n",
    "...*.**. 5 3\n",
    "..*..**. 5 3\n",
    ".*.****. 3 5\n",
    "...*..*. 6 2\n",
    "```\n",
    "\n",
    "#### Plant A, Test 2\n",
    "```\n",
    "Are you growing plant A or B? A\n",
    "What is the starting garden? *\n",
    "How many dormant plants are on either side? 32\n",
    "How many generations do you want to see? (not including the first) 32\n",
    "................................*................................ 64 1\n",
    "...............................*.*............................... 63 2\n",
    "..............................*...*.............................. 63 2\n",
    ".............................*.*.*.*............................. 61 4\n",
    "............................*.......*............................ 63 2\n",
    "...........................*.*.....*.*........................... 61 4\n",
    "..........................*...*...*...*.......................... 61 4\n",
    ".........................*.*.*.*.*.*.*.*......................... 57 8\n",
    "........................*...............*........................ 63 2\n",
    ".......................*.*.............*.*....................... 61 4\n",
    "......................*...*...........*...*...................... 61 4\n",
    ".....................*.*.*.*.........*.*.*.*..................... 57 8\n",
    "....................*.......*.......*.......*.................... 61 4\n",
    "...................*.*.....*.*.....*.*.....*.*................... 57 8\n",
    "..................*...*...*...*...*...*...*...*.................. 57 8\n",
    ".................*.*.*.*.*.*.*.*.*.*.*.*.*.*.*.*................. 49 16\n",
    "................*...............................*................ 63 2\n",
    "...............*.*.............................*.*............... 61 4\n",
    "..............*...*...........................*...*.............. 61 4\n",
    ".............*.*.*.*.........................*.*.*.*............. 57 8\n",
    "............*.......*.......................*.......*............ 61 4\n",
    "...........*.*.....*.*.....................*.*.....*.*........... 57 8\n",
    "..........*...*...*...*...................*...*...*...*.......... 57 8\n",
    ".........*.*.*.*.*.*.*.*.................*.*.*.*.*.*.*.*......... 49 16\n",
    "........*...............*...............*...............*........ 61 4\n",
    ".......*.*.............*.*.............*.*.............*.*....... 57 8\n",
    "......*...*...........*...*...........*...*...........*...*...... 57 8\n",
    ".....*.*.*.*.........*.*.*.*.........*.*.*.*.........*.*.*.*..... 49 16\n",
    "....*.......*.......*.......*.......*.......*.......*.......*.... 57 8\n",
    "...*.*.....*.*.....*.*.....*.*.....*.*.....*.*.....*.*.....*.*... 49 16\n",
    "..*...*...*...*...*...*...*...*...*...*...*...*...*...*...*...*.. 49 16\n",
    ".*.*.*.*.*.*.*.*.*.*.*.*.*.*.*.*.*.*.*.*.*.*.*.*.*.*.*.*.*.*.*.*. 33 32\n",
    "................................................................. 65 0\n",
    "```\n",
    "\n",
    "#### Plant B, Test 1\n",
    "```\n",
    "Are you growing plant A or B? B\n",
    "What is the starting garden? .^*.^.*.\n",
    "How many dormant plants are on either side? 0\n",
    "How many generations do you want to see? (not including the first) 5\n",
    "What is the neighborhood size? 1\n",
    ".^*.^.*. 4 2 2\n",
    ".*..^.^. 5 1 2\n",
    ".^**^.^. 3 2 3\n",
    ".*^^*.^. 3 2 3\n",
    "..^^..^. 5 0 3\n",
    ".*****^. 2 5 1\n",
    "```\n",
    "\n",
    "#### Plant B, Test 2\n",
    "```\n",
    "Are you growing plant A or B? B\n",
    "What is the starting garden? *\n",
    "How many dormant plants are on either side? 20\n",
    "How many generations do you want to see? (not including the first) 20\n",
    "What is the neighborhood size? 1\n",
    "....................*.................... 40 1 0\n",
    "...................*^*................... 38 2 1\n",
    "..................*.^.*.................. 38 2 1\n",
    ".................*^.^.^*................. 36 2 3\n",
    "................*.*.^.*.*................ 36 4 1\n",
    "...............*^.^.^.^.^*............... 34 2 5\n",
    "..............*.*.^.^.^.*.*.............. 34 4 3\n",
    ".............*^.^.^.^.^.^.^*............. 32 2 7\n",
    "............*.*.^.^.^.^.^.*.*............ 32 4 5\n",
    "...........*^.^.^.^.^.^.^.^.^*........... 30 2 9\n",
    "..........*.*.^.^.^.^.^.^.^.*.*.......... 30 4 7\n",
    ".........*^.^.^.^.^.^.^.^.^.^.^*......... 28 2 11\n",
    "........*.*.^.^.^.^.^.^.^.^.^.*.*........ 28 4 9\n",
    ".......*^.^.^.^.^.^.^.^.^.^.^.^.^*....... 26 2 13\n",
    "......*.*.^.^.^.^.^.^.^.^.^.^.^.*.*...... 26 4 11\n",
    ".....*^.^.^.^.^.^.^.^.^.^.^.^.^.^.^*..... 24 2 15\n",
    "....*.*.^.^.^.^.^.^.^.^.^.^.^.^.^.*.*.... 24 4 13\n",
    "...*^.^.^.^.^.^.^.^.^.^.^.^.^.^.^.^.^*... 22 2 17\n",
    "..*.*.^.^.^.^.^.^.^.^.^.^.^.^.^.^.^.*.*.. 22 4 15\n",
    ".*^.^.^.^.^.^.^.^.^.^.^.^.^.^.^.^.^.^.^*. 20 2 19\n",
    "..*.^.^.^.^.^.^.^.^.^.^.^.^.^.^.^.^.^.*.. 22 2 17\n",
    "```\n",
    "\n",
    "#### Plant B, Test 3\n",
    "```\n",
    "Are you growing plant A or B? B\n",
    "What is the starting garden? *\n",
    "How many dormant plants are on either side? 20\n",
    "How many generations do you want to see? (not including the first) 20\n",
    "What is the neighborhood size? 2\n",
    "....................*.................... 40 1 0\n",
    "..................**^**.................. 36 4 1\n",
    "................*.^.^.^.*................ 36 2 3\n",
    "..............**..^.^.^..**.............. 34 4 3\n",
    "............*...*.*.^.*.*...*............ 34 6 1\n",
    "..........**^*.*..^.^.^..*.*^**.......... 28 8 5\n",
    "........*.^.*.*...*.^.*...*.*.^.*........ 30 8 3\n",
    "......**..^.^..*.*..^..*.*..^.^..**...... 28 8 5\n",
    "....*...*.*.*.......^.......*.*.*...*.... 32 8 1\n",
    "..**^*.*..^..**...**^**...**..^..*.*^**.. 20 16 5\n",
    "..^.*.*...^.*.....^.^.^.....*.^...*.*.^.. 28 6 7\n",
    "..*.^..*.**..**.***.^.***.**..**.*..^.*.. 20 18 3\n",
    "....*...*^.**.^..^.*^*.^..^.**.^*...*.... 24 10 7\n",
    "..**^*...^.^^**..**.^.**..**^^.^...*^**.. 18 14 9\n",
    "..^.*^..*****.^**.^*^*^.**^.*****..^*.^.. 14 18 9\n",
    "..**^***^.^...*^..*.^.*..^*...^.^***^**.. 18 14 9\n",
    "..^.^^^.****...**...^...**...****.^^^.^.. 20 12 9\n",
    "..***^*....^.......*^*.......^....*^***.. 26 10 5\n",
    "..^.^*^.***^**...*.^^^.*...**^***.^*^.^.. 16 14 11\n",
    "..***^*...^^.^..*.**^**.*..^.^^...*^***.. 18 14 9\n",
    "..^.^*^...*^**...*..^..*...**^*...^*^.^.. 22 10 9\n",
    "```\n",
    "\n",
    "#### Plant B, Test 4\n",
    "```\n",
    "Are you growing plant A or B? B\n",
    "What is the starting garden? *\n",
    "How many dormant plants are on either side? 20\n",
    "How many generations do you want to see? (not including the first) 20\n",
    "What is the neighborhood size? 3\n",
    "....................*.................... 40 1 0\n",
    ".................***^***................. 34 6 1\n",
    "..............*.*.^.^.^.*.*.............. 34 4 3\n",
    "...........**..*^.^.^.^.^*..**........... 30 6 5\n",
    "........*...^...^.*.^.*.^...^...*........ 32 4 5\n",
    ".....***^...^..***^.^.^***..^...^***..... 22 12 7\n",
    "....*...*.*.**.^.^^*^*^^.^.**.*.*...*.... 22 12 7\n",
    "...*^..*.*.....^*^*.^.*^*^.....*.*..^*... 24 10 7\n",
    "....^*.^...*..**.^^*^*^^.**..*...^.*^.... 22 10 9\n",
    "....^^*^*...**..***.^.***..**...*^*^^.... 20 14 7\n",
    "...**^^^...*.^.*...*^*...*.^.*...^^^**... 22 10 9\n",
    "....^^^*.**.*^*.**.^^^.**.*^*.**.*^^^.... 16 14 11\n",
    "...***^.*^^*^^^*^^*^^^*^^*^^^*^^*.^***... 8 14 19\n",
    ".....^*..**^^^^^^^^^^^^^^^^^^^**..*^..... 14 6 21\n",
    ".....*^.*^^*^^^^^^^^^^^^^^^^^*^^*.^*..... 12 6 23\n",
    ".....^**.**^^^^^^^^^^^^^^^^^^^**.**^..... 12 8 21\n",
    "....*^.^...*^^^^^^^^^^^^^^^^^*...^.^*.... 16 4 21\n",
    "....^^*^**..^*^^^^^^^^^^^^^*^..**^*^^.... 12 8 21\n",
    "...**^.*^^**^^*^^^^^^^^^^^*^^**^^*.^**... 8 12 21\n",
    "...^.^..**^^^^^^^^^^^^^^^^^^^^^**..^.^... 12 4 25\n",
    "...*.^..^^*^^^^^^^^^^^^^^^^^^^*^^..^.*... 12 4 25\n",
    "```"
   ]
  }
 ],
 "metadata": {
  "kernelspec": {
   "display_name": "Python 3",
   "language": "python",
   "name": "python3"
  },
  "language_info": {
   "codemirror_mode": {
    "name": "ipython",
    "version": 3
   },
   "file_extension": ".py",
   "mimetype": "text/x-python",
   "name": "python",
   "nbconvert_exporter": "python",
   "pygments_lexer": "ipython3",
   "version": "3.12.10"
  },
  "varInspector": {
   "cols": {
    "lenName": 16,
    "lenType": 16,
    "lenVar": 40
   },
   "kernels_config": {
    "python": {
     "delete_cmd_postfix": "",
     "delete_cmd_prefix": "del ",
     "library": "var_list.py",
     "varRefreshCmd": "print(var_dic_list())"
    },
    "r": {
     "delete_cmd_postfix": ") ",
     "delete_cmd_prefix": "rm(",
     "library": "var_list.r",
     "varRefreshCmd": "cat(var_dic_list()) "
    }
   },
   "types_to_exclude": [
    "module",
    "function",
    "builtin_function_or_method",
    "instance",
    "_Feature"
   ],
   "window_display": false
  }
 },
 "nbformat": 4,
 "nbformat_minor": 2
}
